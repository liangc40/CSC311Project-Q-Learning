{
  "nbformat": 4,
  "nbformat_minor": 0,
  "metadata": {
    "kernelspec": {
      "name": "python3",
      "display_name": "Python 3"
    },
    "colab": {
      "name": "hw4_sol.ipynb",
      "provenance": [],
      "collapsed_sections": []
    },
    "accelerator": "GPU"
  },
  "cells": [
    {
      "cell_type": "code",
      "metadata": {
        "id": "QlCktA4lAw2r",
        "colab_type": "code",
        "outputId": "a7f1d6bb-c534-4567-a321-73bd9b319cf9",
        "colab": {
          "base_uri": "https://localhost:8080/",
          "height": 122
        }
      },
      "source": [
        "from google.colab import drive\n",
        "drive.mount('/content/drive')"
      ],
      "execution_count": 0,
      "outputs": [
        {
          "output_type": "stream",
          "text": [
            "Go to this URL in a browser: https://accounts.google.com/o/oauth2/auth?client_id=947318989803-6bn6qk8qdgf4n4g3pfee6491hc0brc4i.apps.googleusercontent.com&redirect_uri=urn%3aietf%3awg%3aoauth%3a2.0%3aoob&response_type=code&scope=email%20https%3a%2f%2fwww.googleapis.com%2fauth%2fdocs.test%20https%3a%2f%2fwww.googleapis.com%2fauth%2fdrive%20https%3a%2f%2fwww.googleapis.com%2fauth%2fdrive.photos.readonly%20https%3a%2f%2fwww.googleapis.com%2fauth%2fpeopleapi.readonly\n",
            "\n",
            "Enter your authorization code:\n",
            "··········\n",
            "Mounted at /content/drive\n"
          ],
          "name": "stdout"
        }
      ]
    },
    {
      "cell_type": "markdown",
      "metadata": {
        "id": "k35Hrw3-Auur",
        "colab_type": "text"
      },
      "source": [
        "# 1. Unsupervised Learning"
      ]
    },
    {
      "cell_type": "code",
      "metadata": {
        "id": "-t8AvyJYAuuu",
        "colab_type": "code",
        "colab": {}
      },
      "source": [
        "%matplotlib inline\n",
        "import scipy\n",
        "import numpy as np\n",
        "import itertools\n",
        "import matplotlib.pyplot as plt\n",
        "import time"
      ],
      "execution_count": 0,
      "outputs": []
    },
    {
      "cell_type": "markdown",
      "metadata": {
        "id": "VXldChLjAuux",
        "colab_type": "text"
      },
      "source": [
        "## 1. Generating the data\n",
        "\n",
        "First, we will generate some data for this problem. Set the number of points $N=400$, their dimension $D=2$, and the number of clusters $K=2$, and generate data from the distribution $p(x|z=k) = \\mathcal{N}(\\mu_k, \\Sigma_k)$.\n",
        "  Sample $200$ data points for $k=1$ and 200 for $k=2$, with\n",
        "\n",
        "  $$\n",
        "    \\mu_1=\n",
        "    \\begin{bmatrix}\n",
        "      0.1 \\\\\n",
        "      0.1\n",
        "    \\end{bmatrix}\n",
        "    \\ \\text{,}\\\n",
        "    \\mu_2=\n",
        "    \\begin{bmatrix}\n",
        "      6.0 \\\\\n",
        "      0.1\n",
        "    \\end{bmatrix}\n",
        "    \\ \\text{ and }\\\n",
        "    \\Sigma_1=\\Sigma_2=\n",
        "    \\begin{bmatrix}\n",
        "      10       & 7 \\\\\n",
        "      7 & 10\n",
        "    \\end{bmatrix}\n",
        "  $$\n",
        "  Here, $N=400$. Since you generated the data, you already know which sample comes from which class.\n",
        "  Run the cell in the IPython notebook to generate the data."
      ]
    },
    {
      "cell_type": "code",
      "metadata": {
        "id": "1ffuhUk9Auuy",
        "colab_type": "code",
        "colab": {}
      },
      "source": [
        "# TODO: Run this cell to generate the data\n",
        "num_samples = 400\n",
        "cov = np.array([[1., .7], [.7, 1.]]) * 10\n",
        "mean_1 = [.1, .1]\n",
        "mean_2 = [6., .1]\n",
        "\n",
        "x_class1 = np.random.multivariate_normal(mean_1, cov, num_samples // 2)\n",
        "x_class2 = np.random.multivariate_normal(mean_2, cov, num_samples // 2)\n",
        "xy_class1 = np.column_stack((x_class1, np.zeros(num_samples // 2)))\n",
        "xy_class2 = np.column_stack((x_class2, np.ones(num_samples // 2)))\n",
        "data_full = np.row_stack([xy_class1, xy_class2])\n",
        "np.random.shuffle(data_full)\n",
        "data = data_full[:, :2]\n",
        "labels = data_full[:, 2]"
      ],
      "execution_count": 0,
      "outputs": []
    },
    {
      "cell_type": "markdown",
      "metadata": {
        "id": "vyW-69shAuu0",
        "colab_type": "text"
      },
      "source": [
        "Make a scatter plot of the data points showing the true cluster assignment of each point using different color codes and shape (x for first class and circles for second class):"
      ]
    },
    {
      "cell_type": "code",
      "metadata": {
        "id": "Gz85Fiy5Auu1",
        "colab_type": "code",
        "outputId": "425edf04-306b-48b6-a42b-96bd78cfa1fe",
        "colab": {
          "base_uri": "https://localhost:8080/",
          "height": 265
        }
      },
      "source": [
        "# TODO: Make a scatterplot for the data points showing the true cluster assignments of each point\n",
        "# plt.plot(...) # first class, x shape\n",
        "# plt.plot(...) # second class, circle shape\n",
        "plt.plot(x_class1[:, 0], x_class1[:, 1], 'x', c='red')\n",
        "plt.plot(x_class2[:, 0], x_class2[:, 1], 'o', c='green')\n",
        "plt.show()"
      ],
      "execution_count": 0,
      "outputs": [
        {
          "output_type": "display_data",
          "data": {
            "image/png": "[encoded data removed]",
            "text/plain": [
              "<Figure size 432x288 with 1 Axes>"
            ]
          },
          "metadata": {
            "tags": []
          }
        }
      ]
    },
    {
      "cell_type": "markdown",
      "metadata": {
        "id": "O3dTblRhAuu3",
        "colab_type": "text"
      },
      "source": [
        "## 2. Implement and Run K-Means algorithm\n",
        "\n",
        "Now, we assume that the true class labels are not known. Implement the k-means algorithm for this problem.\n",
        "  Write two functions: `km_assignment_step`, and `km_refitting_step` as given in the lecture (Here, `km_` means k-means).\n",
        "  Identify the correct arguments, and the order to run them. Initialize the algorithm with\n",
        "  $$\n",
        "    \\hat\\mu_1=\n",
        "    \\begin{bmatrix}\n",
        "      0.0 \\\\\n",
        "      0.0\n",
        "    \\end{bmatrix}\n",
        "    \\ \\text{,}\\\n",
        "    \\hat\\mu_2=\n",
        "    \\begin{bmatrix}\n",
        "      1.0 \\\\\n",
        "      1.0\n",
        "    \\end{bmatrix}\n",
        "  $$\n",
        "  and run it until convergence.\n",
        "  Show the resulting cluster assignments on a scatter plot either using different color codes or shape or both.\n",
        "  Also plot the cost vs. the number of iterations. Report your misclassification error."
      ]
    },
    {
      "cell_type": "code",
      "metadata": {
        "id": "IFIjBjbjAuu3",
        "colab_type": "code",
        "colab": {}
      },
      "source": [
        "def cost(data, R, Mu):\n",
        "    N, D = data.shape\n",
        "    K = Mu.shape[1]\n",
        "    J = 0\n",
        "    for k in range(K):\n",
        "        J += np.sum(np.dot(np.linalg.norm(data - np.array([Mu[:, k], ] * N), axis=1)**2, R))\n",
        "    return J"
      ],
      "execution_count": 0,
      "outputs": []
    },
    {
      "cell_type": "code",
      "metadata": {
        "id": "GE4DepvXAuu5",
        "colab_type": "code",
        "colab": {}
      },
      "source": [
        "# TODO: K-Means Assignment Step\n",
        "def km_assignment_step(data, Mu):\n",
        "    \"\"\" Compute K-Means assignment step\n",
        "    \n",
        "    Args:\n",
        "        data: a NxD matrix for the data points\n",
        "        Mu: a DxK matrix for the cluster means locations\n",
        "    \n",
        "    Returns:\n",
        "        R_new: a NxK matrix of responsibilities\n",
        "    \"\"\"\n",
        "    N, D = data.shape  # Number of datapoints and dimension of datapoint\n",
        "    K = Mu.shape[1]  # number of clusters\n",
        "    r = np.zeros([N, K])\n",
        "    #a matrix of NxK dimension for the distances of the the N datapoints to each of the K cluster centers. \n",
        "    for k in range(K):\n",
        "         r[:, k] = np.linalg.norm(data - np.array([Mu[:, k], ] * N), axis=1)**2\n",
        "    arg_min = np.argmin(r, axis=1) # argmax/argmin along dimension 1\n",
        "    R_new = np.zeros([N, K]) # Set to zeros/ones with shape (N, K)\n",
        "    R_new[np.arange(N),arg_min] = 1 # Assign to 1\n",
        "    return R_new"
      ],
      "execution_count": 0,
      "outputs": []
    },
    {
      "cell_type": "code",
      "metadata": {
        "id": "ctvP7KOpAuu8",
        "colab_type": "code",
        "colab": {}
      },
      "source": [
        "# TODO: K-means Refitting Step\n",
        "def km_refitting_step(data, R, Mu):\n",
        "    \"\"\" Compute K-Means refitting step.\n",
        "    \n",
        "    Args:\n",
        "        data: a NxD matrix for the data points\n",
        "        R: a NxK matrix of responsibilities\n",
        "        Mu: a DxK matrix for the cluster means locations\n",
        "    \n",
        "    Returns:\n",
        "        Mu_new: a DxK matrix for the new cluster means locations\n",
        "    \"\"\"\n",
        "    N, D = data.shape\n",
        "    K = Mu.shape[1]\n",
        "    Mu_new = np.zeros((D, K))\n",
        "    for k in range(K):\n",
        "        index = np.where(R[:, k] == 1)\n",
        "        Mu_new[:, k] = np.mean(data[index, :], axis = 1)\n",
        "    return Mu_new"
      ],
      "execution_count": 0,
      "outputs": []
    },
    {
      "cell_type": "code",
      "metadata": {
        "id": "TaG8rHzzAuu-",
        "colab_type": "code",
        "outputId": "175d9a3d-e6e7-43ce-9c00-6d3b88326662",
        "colab": {
          "base_uri": "https://localhost:8080/",
          "height": 1000
        }
      },
      "source": [
        "N, D = data.shape\n",
        "K = 2\n",
        "max_iter = 100\n",
        "class_init = np.random.binomial(1., .5, size=N)\n",
        "R = np.vstack([class_init, 1 - class_init]).T\n",
        "\n",
        "Mu = np.zeros([D, K])\n",
        "Mu[:, 1] = 1.\n",
        "R.T.dot(data), np.sum(R, axis=0)\n",
        "\n",
        "iteration = []\n",
        "clst = []\n",
        "for it in range(max_iter):\n",
        "    R = km_assignment_step(data, Mu)\n",
        "    Mu = km_refitting_step(data, R, Mu)\n",
        "    c = cost(data, R, Mu)\n",
        "    iteration.append(it)\n",
        "    clst.append(c)\n",
        "    print(it, c)\n",
        "\n",
        "class_1 = np.where(R[:, 0])\n",
        "class_2 = np.where(R[:, 1])"
      ],
      "execution_count": 0,
      "outputs": [
        {
          "output_type": "stream",
          "text": [
            "0 37292.58165797178\n",
            "1 37250.88887891708\n",
            "2 37167.849589052785\n",
            "3 37036.73687303193\n",
            "4 36928.79657380079\n",
            "5 36844.57439989758\n",
            "6 36773.98217006367\n",
            "7 36739.05559204959\n",
            "8 36726.52159971727\n",
            "9 36726.52159971727\n",
            "10 36726.52159971727\n",
            "11 36726.52159971727\n",
            "12 36726.52159971727\n",
            "13 36726.52159971727\n",
            "14 36726.52159971727\n",
            "15 36726.52159971727\n",
            "16 36726.52159971727\n",
            "17 36726.52159971727\n",
            "18 36726.52159971727\n",
            "19 36726.52159971727\n",
            "20 36726.52159971727\n",
            "21 36726.52159971727\n",
            "22 36726.52159971727\n",
            "23 36726.52159971727\n",
            "24 36726.52159971727\n",
            "25 36726.52159971727\n",
            "26 36726.52159971727\n",
            "27 36726.52159971727\n",
            "28 36726.52159971727\n",
            "29 36726.52159971727\n",
            "30 36726.52159971727\n",
            "31 36726.52159971727\n",
            "32 36726.52159971727\n",
            "33 36726.52159971727\n",
            "34 36726.52159971727\n",
            "35 36726.52159971727\n",
            "36 36726.52159971727\n",
            "37 36726.52159971727\n",
            "38 36726.52159971727\n",
            "39 36726.52159971727\n",
            "40 36726.52159971727\n",
            "41 36726.52159971727\n",
            "42 36726.52159971727\n",
            "43 36726.52159971727\n",
            "44 36726.52159971727\n",
            "45 36726.52159971727\n",
            "46 36726.52159971727\n",
            "47 36726.52159971727\n",
            "48 36726.52159971727\n",
            "49 36726.52159971727\n",
            "50 36726.52159971727\n",
            "51 36726.52159971727\n",
            "52 36726.52159971727\n",
            "53 36726.52159971727\n",
            "54 36726.52159971727\n",
            "55 36726.52159971727\n",
            "56 36726.52159971727\n",
            "57 36726.52159971727\n",
            "58 36726.52159971727\n",
            "59 36726.52159971727\n",
            "60 36726.52159971727\n",
            "61 36726.52159971727\n",
            "62 36726.52159971727\n",
            "63 36726.52159971727\n",
            "64 36726.52159971727\n",
            "65 36726.52159971727\n",
            "66 36726.52159971727\n",
            "67 36726.52159971727\n",
            "68 36726.52159971727\n",
            "69 36726.52159971727\n",
            "70 36726.52159971727\n",
            "71 36726.52159971727\n",
            "72 36726.52159971727\n",
            "73 36726.52159971727\n",
            "74 36726.52159971727\n",
            "75 36726.52159971727\n",
            "76 36726.52159971727\n",
            "77 36726.52159971727\n",
            "78 36726.52159971727\n",
            "79 36726.52159971727\n",
            "80 36726.52159971727\n",
            "81 36726.52159971727\n",
            "82 36726.52159971727\n",
            "83 36726.52159971727\n",
            "84 36726.52159971727\n",
            "85 36726.52159971727\n",
            "86 36726.52159971727\n",
            "87 36726.52159971727\n",
            "88 36726.52159971727\n",
            "89 36726.52159971727\n",
            "90 36726.52159971727\n",
            "91 36726.52159971727\n",
            "92 36726.52159971727\n",
            "93 36726.52159971727\n",
            "94 36726.52159971727\n",
            "95 36726.52159971727\n",
            "96 36726.52159971727\n",
            "97 36726.52159971727\n",
            "98 36726.52159971727\n",
            "99 36726.52159971727\n"
          ],
          "name": "stdout"
        }
      ]
    },
    {
      "cell_type": "code",
      "metadata": {
        "id": "oHp19GjMAuvA",
        "colab_type": "code",
        "outputId": "43e46d63-d7df-478a-81e2-5fc5567837be",
        "colab": {
          "base_uri": "https://localhost:8080/",
          "height": 265
        }
      },
      "source": [
        "# TODO: Make a scatterplot for the data points showing the K-Means cluster assignments of each point\n",
        "# plt.plot(...) # first class, x shape\n",
        "# plt.plot(...) # second class, circle shape\n",
        "plt.plot(data[class_1, 0], data[class_1,1], 'x', color='red')\n",
        "plt.plot(data[class_2, 0], data[class_2,1], 'o', color='green')\n",
        "plt.show()"
      ],
      "execution_count": 0,
      "outputs": [
        {
          "output_type": "display_data",
          "data": {
            "image/png": "[encoded data removed]",
            "text/plain": [
              "<Figure size 432x288 with 1 Axes>"
            ]
          },
          "metadata": {
            "tags": []
          }
        }
      ]
    },
    {
      "cell_type": "code",
      "metadata": {
        "id": "rPUrYjVY5hw7",
        "colab_type": "code",
        "outputId": "dcc328a3-7912-4124-841c-902daa1c7a57",
        "colab": {
          "base_uri": "https://localhost:8080/",
          "height": 296
        }
      },
      "source": [
        "plt.ylabel('cost')\n",
        "plt.xlabel('iteration')\n",
        "plt.plot(iterations, costs)"
      ],
      "execution_count": 0,
      "outputs": [
        {
          "output_type": "execute_result",
          "data": {
            "text/plain": [
              "[<matplotlib.lines.Line2D at 0x7f5141a4f898>]"
            ]
          },
          "metadata": {
            "tags": []
          },
          "execution_count": 55
        },
        {
          "output_type": "display_data",
          "data": {
            "image/png": "[encoded data removed]",
            "text/plain": [
              "<Figure size 432x288 with 1 Axes>"
            ]
          },
          "metadata": {
            "tags": []
          }
        }
      ]
    },
    {
      "cell_type": "code",
      "metadata": {
        "id": "8JimxpMlr60R",
        "colab_type": "code",
        "outputId": "ec690a10-49b2-41e3-ec81-1118b8088697",
        "colab": {
          "base_uri": "https://localhost:8080/",
          "height": 34
        }
      },
      "source": [
        "labels_predict = np.argwhere(R == 1)[:, 1]\n",
        "print(\"Error rate: \", np.mean(labels != labels_predict))"
      ],
      "execution_count": 0,
      "outputs": [
        {
          "output_type": "stream",
          "text": [
            "Error rate:  0.1875\n"
          ],
          "name": "stdout"
        }
      ]
    },
    {
      "cell_type": "markdown",
      "metadata": {
        "id": "2lYfAhpuAuvC",
        "colab_type": "text"
      },
      "source": [
        "## 3. Implement EM algorithm for Gaussian mixtures\n",
        "Next, implement the EM algorithm for Gaussian mixtures.\n",
        "  Write three functions: `log_likelihood`, `gm_e_step`, and `gm_m_step` as given in the lecture.\n",
        "  Identify the correct arguments, and the order to run them.\n",
        "  Initialize the algorithm with means as in Qs 2.1 k-means initialization, covariances with $\\hat\\Sigma_1=\\hat\\Sigma_2=I$,\n",
        "  and $\\hat\\pi_1=\\hat\\pi_2$.\n",
        "\n",
        "  In addition to the update equations in the lecture, for the M (Maximization) step, you also need to use this following equation to update the covariance $\\Sigma_k$:\n",
        "$$\\hat{\\mathbf{\\Sigma}_k} = \\frac{1}{N_k} \\sum^N_{n=1} r_k^{(n)}(\\mathbf{x}^{(n)} - \\hat{\\mathbf{\\mu}_k})(\\mathbf{x}^{(n)} - \\hat{\\mathbf{\\mu}_k})^{\\top}$$\n",
        "    \n",
        "  Run the algorithm until convergence and show the resulting cluster assignments on a scatter plot either using different color codes or shape or both.\n",
        "  Also plot the log-likelihood vs. the number of iterations. Report your misclassification error."
      ]
    },
    {
      "cell_type": "code",
      "metadata": {
        "id": "4JY88KvYAuvD",
        "colab_type": "code",
        "colab": {}
      },
      "source": [
        "def normal_density(x, mu, Sigma):\n",
        "    return np.exp(-.5 * np.dot(x - mu, np.linalg.solve(Sigma, x - mu))) \\\n",
        "        / np.sqrt(np.linalg.det(2 * np.pi * Sigma))"
      ],
      "execution_count": 0,
      "outputs": []
    },
    {
      "cell_type": "code",
      "metadata": {
        "id": "j2zPeYqxAuvF",
        "colab_type": "code",
        "colab": {}
      },
      "source": [
        "def log_likelihood(data, Mu, Sigma, Pi):\n",
        "    \"\"\" Compute log likelihood on the data given the Gaussian Mixture Parameters.\n",
        "    \n",
        "    Args:\n",
        "        data: a NxD matrix for the data points\n",
        "        Mu: a DxK matrix for the means of the K Gaussian Mixtures\n",
        "        Sigma: a list of size K with each element being DxD covariance matrix\n",
        "        Pi: a vector of size K for the mixing coefficients\n",
        "    \n",
        "    Returns:\n",
        "        L: a scalar denoting the log likelihood of the data given the Gaussian Mixture\n",
        "    \"\"\"\n",
        "    # Fill this in:\n",
        "    # N, D = ...  # Number of datapoints and dimension of datapoint\n",
        "    # K = ... # number of mixtures\n",
        "    # L, T = 0., 0.\n",
        "    # for n in range(N):\n",
        "    #     for k in range(K):\n",
        "    #         # T += ... # Compute the likelihood from the k-th Gaussian weighted by the mixing coefficients \n",
        "    #     L += np.log(T)\n",
        "    # return L\n",
        "\n",
        "    N, D = data.shape  # Number of datapoints and dimension of datapoint\n",
        "    K = Mu.shape[1] # number of mixtures\n",
        "    L, T = 0., 0.\n",
        "    for n in range(N):\n",
        "        T = 0.\n",
        "        for k in range(K):\n",
        "            T += Pi[k] * normal_density(data[n], Mu[:, k], Sigma[k]) # Compute the likelihood from the k-th Gaussian weighted by the mixing coefficients \n",
        "        L += np.log(T)\n",
        "    return L"
      ],
      "execution_count": 0,
      "outputs": []
    },
    {
      "cell_type": "code",
      "metadata": {
        "id": "TbNptl8ZAuvH",
        "colab_type": "code",
        "colab": {}
      },
      "source": [
        "# TODO: Gaussian Mixture Expectation Step\n",
        "def gm_e_step(data, Mu, Sigma, Pi):\n",
        "    \"\"\" Gaussian Mixture Expectation Step.\n",
        "\n",
        "    Args:\n",
        "        data: a NxD matrix for the data points\n",
        "        Mu: a DxK matrix for the means of the K Gaussian Mixtures\n",
        "        Sigma: a list of size K with each element being DxD covariance matrix\n",
        "        Pi: a vector of size K for the mixing coefficients\n",
        "    \n",
        "    Returns:\n",
        "        Gamma: a NxK matrix of responsibilities \n",
        "    \"\"\"\n",
        "    # Fill this in:\n",
        "    # N, D = ... # Number of datapoints and dimension of datapoint\n",
        "    # K = ... # number of mixtures\n",
        "    # Gamma = ... # zeros of shape (N,K), matrix of responsibilities\n",
        "    # for n in range(N):\n",
        "    #     for k in range(K):\n",
        "    #         # Gamma[n, k] = .... \n",
        "    #     # Gamma[n, :] /= ... # Normalize by sum across second dimension (mixtures)\n",
        "    # return Gamma\n",
        "    N, D = data.shape # Number of datapoints and dimension of datapoint\n",
        "    K = Mu.shape[1] # number of mixtures\n",
        "    Gamma = np.zeros((N,K)) # zeros of shape (N,K), matrix of responsibilities\n",
        "    for n in range(N):\n",
        "        for k in range(K):\n",
        "            Gamma[n, k] = Pi[k] * normal_density(data[n], Mu[:,k], Sigma[k])\n",
        "        Gamma[n, :] /= np.sum(Gamma[n, :]) # Normalize by sum across second dimension (mixtures)\n",
        "    return Gamma"
      ],
      "execution_count": 0,
      "outputs": []
    },
    {
      "cell_type": "code",
      "metadata": {
        "id": "X1bdUKq7AuvJ",
        "colab_type": "code",
        "colab": {}
      },
      "source": [
        "# TODO: Gaussian Mixture Maximization Step\n",
        "def gm_m_step(data, Gamma):\n",
        "    \"\"\" Gaussian Mixture Maximization Step.\n",
        "\n",
        "    Args:\n",
        "        data: a NxD matrix for the data points\n",
        "        Gamma: a NxK matrix of responsibilities \n",
        "    \n",
        "    Returns:\n",
        "        Mu: a DxK matrix for the means of the K Gaussian Mixtures\n",
        "        Sigma: a list of size K with each element being DxD covariance matrix\n",
        "        Pi: a vector of size K for the mixing coefficients\n",
        "    \"\"\"\n",
        "    N, D = data.shape # Number of datapoints and dimension of datapoint\n",
        "    K = Gamma.shape[1]  # number of mixtures\n",
        "    Nk = np.sum(Gamma, axis=0) # Sum along first axis \n",
        "    Mu = np.zeros([D, K]) \n",
        "    Sigma = np.zeros((K,D,D))\n",
        "    \n",
        "    for k in range(K):\n",
        "        for n in range(N):\n",
        "            Mu[:,k] += Gamma[n,k] * data[n,:]/Nk[k]\n",
        "    for k in range(K):\n",
        "        for n in range(N):\n",
        "            temp = (data[n,:] - Mu[:,k]).reshape((D,1))\n",
        "            Sigma[k] += Gamma[n,k] * np.dot(temp, temp.T)/Nk[k]\n",
        "    Pi = Nk / N \n",
        "    return Mu, Sigma, Pi"
      ],
      "execution_count": 0,
      "outputs": []
    },
    {
      "cell_type": "code",
      "metadata": {
        "id": "5j8RgohmAuvM",
        "colab_type": "code",
        "outputId": "6ae31536-3428-48d6-b0b8-bde1dd52d4bb",
        "colab": {
          "base_uri": "https://localhost:8080/",
          "height": 1000
        }
      },
      "source": [
        "# TODO: Run this cell to call the Gaussian Mixture EM algorithm\n",
        "N, D = data.shape\n",
        "K = 2\n",
        "Mu = np.zeros([D, K])\n",
        "Mu[:, 1] = 1.\n",
        "Sigma = [np.eye(2), np.eye(2)]\n",
        "Pi = np.ones(K) / K\n",
        "Gamma = np.zeros([N, K]) # Gamma is the matrix of responsibilities \n",
        "\n",
        "max_iter  = 200\n",
        "\n",
        "iterations = []\n",
        "costs = []\n",
        "for it in range(max_iter):\n",
        "    Gamma = gm_e_step(data, Mu, Sigma, Pi)\n",
        "    Mu, Sigma, Pi = gm_m_step(data, Gamma)\n",
        "    loglike = log_likelihood(data, Mu, Sigma, Pi)\n",
        "    iterations.append(it)\n",
        "    costs.append(loglike)\n",
        "    print(it, loglike) # This function makes the computation longer, but good for debugging\n",
        "\n",
        "class_1 = np.where(Gamma[:, 0] >= .5)\n",
        "class_2 = np.where(Gamma[:, 1] >= .5)"
      ],
      "execution_count": 0,
      "outputs": [
        {
          "output_type": "stream",
          "text": [
            "0 -2108.569030648646\n",
            "1 -2103.523067787013\n",
            "2 -2101.578628940565\n",
            "3 -2100.39571336378\n",
            "4 -2099.4236632574143\n",
            "5 -2098.464055686756\n",
            "6 -2097.408395697052\n",
            "7 -2096.1536982077464\n",
            "8 -2094.5612603236423\n",
            "9 -2092.519545762133\n",
            "10 -2090.247433322861\n",
            "11 -2088.2949298098933\n",
            "12 -2086.9395731095738\n",
            "13 -2086.1168033743156\n",
            "14 -2085.660531138905\n",
            "15 -2085.421344453549\n",
            "16 -2085.298761138278\n",
            "17 -2085.235414098758\n",
            "18 -2085.2015105004816\n",
            "19 -2085.1822768473003\n",
            "20 -2085.1704904611533\n",
            "21 -2085.1626047237182\n",
            "22 -2085.1568538546535\n",
            "23 -2085.1523420208\n",
            "24 -2085.148604067255\n",
            "25 -2085.1453911308645\n",
            "26 -2085.1425645465742\n",
            "27 -2085.140042670383\n",
            "28 -2085.137773932699\n",
            "29 -2085.13572305107\n",
            "30 -2085.1338639070595\n",
            "31 -2085.1321758226945\n",
            "32 -2085.130641581603\n",
            "33 -2085.1292463507466\n",
            "34 -2085.1279770703873\n",
            "35 -2085.1268220897928\n",
            "36 -2085.1257709341003\n",
            "37 -2085.1248141428205\n",
            "38 -2085.1239431490208\n",
            "39 -2085.1231501829784\n",
            "40 -2085.122428191501\n",
            "41 -2085.121770768269\n",
            "42 -2085.1211720923784\n",
            "43 -2085.1206268735164\n",
            "44 -2085.1201303027024\n",
            "45 -2085.1196780078126\n",
            "46 -2085.1192660133675\n",
            "47 -2085.1188907041155\n",
            "48 -2085.1185487919975\n",
            "49 -2085.1182372862168\n",
            "50 -2085.117953466067\n",
            "51 -2085.117694856276\n",
            "52 -2085.117459204643\n",
            "53 -2085.117244461728\n",
            "54 -2085.117048762411\n",
            "55 -2085.116870409161\n",
            "56 -2085.116707856822\n",
            "57 -2085.1165596988235\n",
            "58 -2085.1164246546223\n",
            "59 -2085.1163015583297\n",
            "60 -2085.116189348338\n",
            "61 -2085.1160870579333\n",
            "62 -2085.1159938067362\n",
            "63 -2085.1159087929304\n",
            "64 -2085.115831286205\n",
            "65 -2085.115760621329\n",
            "66 -2085.115696192309\n",
            "67 -2085.1156374470756\n",
            "68 -2085.115583882667\n",
            "69 -2085.1155350408185\n",
            "70 -2085.11549050397\n",
            "71 -2085.115449891633\n",
            "72 -2085.115412857078\n",
            "73 -2085.1153790843246\n",
            "74 -2085.115348285397\n",
            "75 -2085.115320197835\n",
            "76 -2085.115294582412\n",
            "77 -2085.1152712210865\n",
            "78 -2085.1152499150935\n",
            "79 -2085.1152304832535\n",
            "80 -2085.1152127604037\n",
            "81 -2085.115196595972\n",
            "82 -2085.1151818526905\n",
            "83 -2085.115168405407\n",
            "84 -2085.115156140023\n",
            "85 -2085.1151449524973\n",
            "86 -2085.1151347479804\n",
            "87 -2085.115125439978\n",
            "88 -2085.1151169496216\n",
            "89 -2085.115109205\n",
            "90 -2085.115102140534\n",
            "91 -2085.115095696413\n",
            "92 -2085.1150898181154\n",
            "93 -2085.1150844558997\n",
            "94 -2085.115079564413\n",
            "95 -2085.1150751022924\n",
            "96 -2085.1150710318134\n",
            "97 -2085.1150673185743\n",
            "98 -2085.1150639311895\n",
            "99 -2085.115060841046\n",
            "100 -2085.115058022042\n",
            "101 -2085.1150554503643\n",
            "102 -2085.1150531043013\n",
            "103 -2085.1150509640465\n",
            "104 -2085.1150490115356\n",
            "105 -2085.1150472302825\n",
            "106 -2085.1150456052655\n",
            "107 -2085.1150441227674\n",
            "108 -2085.1150427702855\n",
            "109 -2085.1150415364123\n",
            "110 -2085.1150404107357\n",
            "111 -2085.115039383769\n",
            "112 -2085.1150384468465\n",
            "113 -2085.115037592078\n",
            "114 -2085.1150368122526\n",
            "115 -2085.1150361007944\n",
            "116 -2085.11503545171\n",
            "117 -2085.1150348595315\n",
            "118 -2085.115034319264\n",
            "119 -2085.115033826356\n",
            "120 -2085.1150333766577\n",
            "121 -2085.115032966381\n",
            "122 -2085.1150325920626\n",
            "123 -2085.1150322505555\n",
            "124 -2085.115031938981\n",
            "125 -2085.115031654714\n",
            "126 -2085.115031395365\n",
            "127 -2085.115031158744\n",
            "128 -2085.115030942858\n",
            "129 -2085.115030745898\n",
            "130 -2085.115030566197\n",
            "131 -2085.115030402244\n",
            "132 -2085.11503025266\n",
            "133 -2085.115030116183\n",
            "134 -2085.1150299916653\n",
            "135 -2085.115029878061\n",
            "136 -2085.1150297744116\n",
            "137 -2085.1150296798455\n",
            "138 -2085.115029593564\n",
            "139 -2085.1150295148445\n",
            "140 -2085.115029443021\n",
            "141 -2085.115029377494\n",
            "142 -2085.115029317707\n",
            "143 -2085.1150292631587\n",
            "144 -2085.11502921339\n",
            "145 -2085.11502916798\n",
            "146 -2085.115029126552\n",
            "147 -2085.1150290887545\n",
            "148 -2085.1150290542655\n",
            "149 -2085.1150290228\n",
            "150 -2085.1150289940915\n",
            "151 -2085.115028967899\n",
            "152 -2085.115028943999\n",
            "153 -2085.115028922195\n",
            "154 -2085.1150289023008\n",
            "155 -2085.1150288841523\n",
            "156 -2085.115028867589\n",
            "157 -2085.1150288524777\n",
            "158 -2085.1150288386934\n",
            "159 -2085.1150288261147\n",
            "160 -2085.1150288146396\n",
            "161 -2085.115028804169\n",
            "162 -2085.115028794612\n",
            "163 -2085.1150287858973\n",
            "164 -2085.115028777943\n",
            "165 -2085.1150287706896\n",
            "166 -2085.115028764068\n",
            "167 -2085.1150287580294\n",
            "168 -2085.1150287525174\n",
            "169 -2085.1150287474907\n",
            "170 -2085.1150287429027\n",
            "171 -2085.115028738715\n",
            "172 -2085.1150287348955\n",
            "173 -2085.115028731412\n",
            "174 -2085.1150287282317\n",
            "175 -2085.115028725332\n",
            "176 -2085.1150287226865\n",
            "177 -2085.115028720271\n",
            "178 -2085.115028718067\n",
            "179 -2085.115028716056\n",
            "180 -2085.115028714223\n",
            "181 -2085.115028712549\n",
            "182 -2085.115028711023\n",
            "183 -2085.1150287096307\n",
            "184 -2085.115028708359\n",
            "185 -2085.115028707199\n",
            "186 -2085.115028706141\n",
            "187 -2085.1150287051746\n",
            "188 -2085.1150287042956\n",
            "189 -2085.1150287034893\n",
            "190 -2085.1150287027563\n",
            "191 -2085.1150287020887\n",
            "192 -2085.115028701477\n",
            "193 -2085.115028700922\n",
            "194 -2085.115028700415\n",
            "195 -2085.115028699949\n",
            "196 -2085.1150286995266\n",
            "197 -2085.1150286991387\n",
            "198 -2085.1150286987895\n",
            "199 -2085.115028698466\n"
          ],
          "name": "stdout"
        }
      ]
    },
    {
      "cell_type": "code",
      "metadata": {
        "id": "ECon8BqGAuvO",
        "colab_type": "code",
        "outputId": "ea4f4fd0-75ee-4efd-a1b3-958af25308e4",
        "colab": {
          "base_uri": "https://localhost:8080/",
          "height": 282
        }
      },
      "source": [
        "# TODO: Make a scatterplot for the data points showing the Gaussian Mixture cluster assignments of each point\n",
        "\n",
        "plt.scatter(data[class_1][:, 0], data[class_1][:, 1], marker='x', color='red')\n",
        "plt.scatter(data[class_2][:, 0], data[class_2][:, 1], marker='o', color = 'green')"
      ],
      "execution_count": 0,
      "outputs": [
        {
          "output_type": "execute_result",
          "data": {
            "text/plain": [
              "<matplotlib.collections.PathCollection at 0x7f513ea6bc50>"
            ]
          },
          "metadata": {
            "tags": []
          },
          "execution_count": 61
        },
        {
          "output_type": "display_data",
          "data": {
            "image/png": "[encoded data removed]",
            "text/plain": [
              "<Figure size 432x288 with 1 Axes>"
            ]
          },
          "metadata": {
            "tags": []
          }
        }
      ]
    },
    {
      "cell_type": "code",
      "metadata": {
        "id": "CjUe7Ti8EgjQ",
        "colab_type": "code",
        "outputId": "3709655e-2c8e-4187-e449-5bdf63437597",
        "colab": {
          "base_uri": "https://localhost:8080/",
          "height": 296
        }
      },
      "source": [
        "plt.ylabel('cost')\n",
        "plt.xlabel('iteration')\n",
        "plt.plot(iterations, costs)"
      ],
      "execution_count": 0,
      "outputs": [
        {
          "output_type": "execute_result",
          "data": {
            "text/plain": [
              "[<matplotlib.lines.Line2D at 0x7f5141c02a90>]"
            ]
          },
          "metadata": {
            "tags": []
          },
          "execution_count": 71
        },
        {
          "output_type": "display_data",
          "data": {
            "image/png": "[encoded data removed]",
            "text/plain": [
              "<Figure size 432x288 with 1 Axes>"
            ]
          },
          "metadata": {
            "tags": []
          }
        }
      ]
    },
    {
      "cell_type": "code",
      "metadata": {
        "id": "1XwF3sOIseKN",
        "colab_type": "code",
        "outputId": "a32ed46f-2818-446a-ce54-2cf9521a90ee",
        "colab": {
          "base_uri": "https://localhost:8080/",
          "height": 34
        }
      },
      "source": [
        "labels_predict_EM = np.argwhere(Gamma >= 0.5)[:, 1]\n",
        "print(\"Error rate: \", np.mean(labels != labels_predict_EM))"
      ],
      "execution_count": 0,
      "outputs": [
        {
          "output_type": "stream",
          "text": [
            "Error rate:  0.11\n"
          ],
          "name": "stdout"
        }
      ]
    },
    {
      "cell_type": "code",
      "metadata": {
        "id": "NGdpNhxKGTTB",
        "colab_type": "code",
        "colab": {}
      },
      "source": [
        "k_means_error_list = []\n",
        "EM_error_list = []\n",
        "k_means_time_list = []\n",
        "EM_time_list = []\n",
        "\n",
        "for i in range(5):\n",
        "    num_samples = 400\n",
        "    cov = np.array([[1., .7], [.7, 1.]]) * 10\n",
        "    mean_1 = [.1, .1]\n",
        "    mean_2 = [6., .1]\n",
        "\n",
        "    x_class1 = np.random.multivariate_normal(mean_1, cov, num_samples // 2)\n",
        "    x_class2 = np.random.multivariate_normal(mean_2, cov, num_samples // 2)\n",
        "    xy_class1 = np.column_stack((x_class1, np.zeros(num_samples // 2)))\n",
        "    xy_class2 = np.column_stack((x_class2, np.ones(num_samples // 2)))\n",
        "    data_full = np.row_stack([xy_class1, xy_class2])\n",
        "    np.random.shuffle(data_full)\n",
        "    data = data_full[:, :2]\n",
        "    labels = data_full[:, 2]\n",
        "\n",
        "    N, D = data.shape\n",
        "    K = 2\n",
        "    max_iter = 200\n",
        "    class_init = np.random.binomial(1., .5, size=N)\n",
        "    R = np.vstack([class_init, 1 - class_init]).T\n",
        "\n",
        "    start_time=time.clock()\n",
        "    Mu = np.zeros([D, K])\n",
        "    Mu[:, 1] = 1.\n",
        "    R.T.dot(data), np.sum(R, axis=0)\n",
        "    for it in range(max_iter):\n",
        "        R = km_assignment_step(data, Mu)\n",
        "        Mu = km_refitting_step(data, R, Mu)\n",
        "        c = cost(data, R, Mu)\n",
        "    labels_predict = np.argwhere(R == 1)[:, 1]\n",
        "    k_means_error_list.append(np.mean(labels != labels_predict))\n",
        "    time_use=time.clock()-start_time\n",
        "    k_means_time_list.append(time_use)\n",
        "\n",
        "    start_time = time.clock()\n",
        "    Sigma = [np.eye(2), np.eye(2)]\n",
        "    Pi = np.ones(K) / K\n",
        "    Gamma = np.zeros([N, K]) # Gamma is the matrix of responsibilities\n",
        "    for it in range(max_iter):\n",
        "        Gamma = gm_e_step(data, Mu, Sigma, Pi)\n",
        "        Mu, Sigma, Pi = gm_m_step(data, Gamma)\n",
        "        loglike = log_likelihood(data, Mu, Sigma, Pi)\n",
        "    labels_predict = np.argwhere(Gamma >= 0.5)[:, 1]\n",
        "    EM_error_list.append(np.mean(labels != labels_predict))\n",
        "    time_use=time.clock()-start_time\n",
        "    EM_time_list.append(time_use)"
      ],
      "execution_count": 0,
      "outputs": []
    },
    {
      "cell_type": "code",
      "metadata": {
        "id": "rM4rllTBMlL-",
        "colab_type": "code",
        "outputId": "a50d476a-d54d-4967-cbac-2c8b61514419",
        "colab": {
          "base_uri": "https://localhost:8080/",
          "height": 190
        }
      },
      "source": [
        "print(\"BELOW IS THE RESULT FOR FIVE DIFFERENT DATA REALIZATION\")\n",
        "print(\"=================================================================\")\n",
        "print(\"THE K_MEANS REUSLT IS:\", k_means_error_list)\n",
        "print(\"=================================================================\")\n",
        "print(\"THE K_MEANS TIME IS:\", k_means_time_list)\n",
        "print(\"=================================================================\")\n",
        "print(\"THE EM_ERROR REUSLT IS:\", EM_error_list)\n",
        "print(\"=================================================================\")\n",
        "print(\"THE EM_ERROR REUSLT IS:\", EM_time_list)"
      ],
      "execution_count": 0,
      "outputs": [
        {
          "output_type": "stream",
          "text": [
            "BELOW IS THE RESULT FOR FIVE DIFFERENT DATA REALIZATION\n",
            "=================================================================\n",
            "THE K_MEANS REUSLT IS: [0.2325, 0.2675, 0.2675, 0.2675, 0.2375]\n",
            "=================================================================\n",
            "THE K_MEANS TIME IS: [0.1449140000000284, 0.1250660000000039, 0.12583499999999503, 0.12067200000001321, 0.12221499999998287]\n",
            "=================================================================\n",
            "THE EM_ERROR REUSLT IS: [0.065, 0.0875, 0.1025, 0.1075, 0.0975]\n",
            "=================================================================\n",
            "THE EM_ERROR REUSLT IS: [11.571901000000025, 11.817532999999969, 11.66621299999997, 11.625350999999966, 11.75290799999999]\n"
          ],
          "name": "stdout"
        }
      ]
    },
    {
      "cell_type": "markdown",
      "metadata": {
        "id": "5uVlunkRAuvQ",
        "colab_type": "text"
      },
      "source": [
        "## 4. Comment on findings + additional experiments"
      ]
    },
    {
      "cell_type": "markdown",
      "metadata": {
        "id": "bnX2A483AuvR",
        "colab_type": "text"
      },
      "source": [
        "Comment on the results:\n",
        "\n",
        "* Compare the performance of k-Means and EM based on the resulting cluster assignments. **Answer:** Compare the performance of k-Means and EM besed on resulting cluster assignments, we could see that they are different. Also, notice the misclassification rate for k-Means is significantly larger than the misclassification rate for EM, we could draw the conclusion that EM has a better clusterring result than k-Means. \n",
        "\n",
        "* Compare the performance of k-Means and EM based on their convergence rate. What is the bottleneck for which method? **Answer:** From the result above we could see that for k-Means the convergenece time is between 0.1 point to 0.2 point. For EM method, the convergence time is roughly over 10 seconds. Therefore, k-Means converges way faster then EM, and the bottleneck for EM method is EM is more accurate, but takes longer computataion time, and for k-Means the bottleneck is it indeed takes relatively shorter time but the prediction is not as accurate as EM's.\n",
        "* Experiment with 5 different data realizations (generate new data), run your algorithms, and summarize your findings. Does the algorithm performance depend on different realizations of data? **Answer:** From \n"
      ]
    },
    {
      "cell_type": "markdown",
      "metadata": {
        "id": "_EuAfVpIAuvS",
        "colab_type": "text"
      },
      "source": [
        "# 2. Reinforcement Learning\n",
        "\n",
        "There are 3 files:\n",
        "1. `maze.py`: defines the `MazeEnv` class, the simulation environment which the Q-learning agent will interact in.\n",
        "2. `qlearning.py`: defines the `qlearn` function which you will implement, along with several helper functions. Follow the instructions in the file. \n",
        "3. `plotting_utils.py`: defines several plotting and visualization utilities. In particular, you will use `plot_steps_vs_iters`, `plot_several_steps_vs_iters`, `plot_policy_from_q`"
      ]
    },
    {
      "cell_type": "code",
      "metadata": {
        "id": "DRRQYV3MAuvT",
        "colab_type": "code",
        "colab": {}
      },
      "source": [
        "# from qlearning import qlearn\n",
        "# from maze import MazeEnv, ProbabilisticMazeEnv\n",
        "# from plotting_utils import plot_steps_vs_iters, plot_several_steps_vs_iters, plot_policy_from_q"
      ],
      "execution_count": 0,
      "outputs": []
    },
    {
      "cell_type": "code",
      "metadata": {
        "id": "1IlCfAlMBNZC",
        "colab_type": "code",
        "colab": {}
      },
      "source": [
        "import numpy as np\n",
        "import matplotlib \n",
        "import matplotlib.pyplot as plt\n",
        "# from qlearning import *\n",
        "# from maze import *\n",
        "\n",
        "#  UTILITY FUNCTIONS\n",
        "\n",
        "\n",
        "color_cycle = ['#377eb8', '#ff7f00', '#a65628',\n",
        "               '#f781bf','#4daf4a',  '#984ea3',\n",
        "               '#999999', '#e41a1c', '#dede00']\n",
        "\n",
        "def plot_steps_vs_iters(steps_vs_iters, block_size=10):\n",
        "    num_iters = len(steps_vs_iters)\n",
        "    block_size = 10\n",
        "    num_blocks = num_iters // block_size\n",
        "    smooted_data = np.zeros(shape=(num_blocks, 1))\n",
        "    for i in range(num_blocks):\n",
        "        lower = i * block_size\n",
        "        upper = lower + 9\n",
        "        smooted_data[i] = np.mean(steps_vs_iters[lower:upper])\n",
        "    \n",
        "    plt.figure()\n",
        "    plt.title(\"Steps to goal vs episodes\")\n",
        "    plt.ylabel(\"Steps to goal\")\n",
        "    plt.xlabel(\"Episodes\")\n",
        "    plt.plot(np.arange(1,num_iters,block_size), smooted_data, color=color_cycle[0])\n",
        "    \n",
        "    return\n",
        "\n",
        "def plot_several_steps_vs_iters(steps_vs_iters_list, label_list, block_size=10):\n",
        "    smooted_data_list = []\n",
        "    for steps_vs_iters in steps_vs_iters_list:\n",
        "        num_iters = len(steps_vs_iters)\n",
        "        block_size = 10\n",
        "        num_blocks = num_iters // block_size\n",
        "        smooted_data = np.zeros(shape=(num_blocks, 1))\n",
        "        for i in range(num_blocks):\n",
        "            lower = i * block_size\n",
        "            upper = lower + 9\n",
        "            smooted_data[i] = np.mean(steps_vs_iters[lower:upper])\n",
        "        smooted_data_list.append(smooted_data)\n",
        "    \n",
        "    plt.figure()\n",
        "    plt.title(\"Steps to goal vs episodes\")\n",
        "    plt.ylabel(\"Steps to goal\")\n",
        "    plt.xlabel(\"Episodes\")\n",
        "    index = 0\n",
        "    for label, smooted_data in zip(label_list, smooted_data_list):\n",
        "        plt.plot(np.arange(1,num_iters,block_size), smooted_data, label=label, color=color_cycle[index])\n",
        "        index += 1\n",
        "    plt.legend()\n",
        "    \n",
        "    return\n",
        "\n",
        "\n",
        "# this function sets color values for \n",
        "# Q table cells depending on expected reward value\n",
        "def get_color(value, min_val, max_val):\n",
        "    \n",
        "    switcher={\n",
        "                0:'gray',\n",
        "                1:'indigo',\n",
        "                2:'darkmagenta',\n",
        "                3:'orchid',\n",
        "                4:'lightpink',\n",
        "             }\n",
        "\n",
        "    step = (max_val-min_val)/5\n",
        "    i = 0\n",
        "    color='lightpink'\n",
        "     \n",
        "    for limit in np.arange(min_val, max_val, step):\n",
        "        if limit <= value < limit+step:\n",
        "            color = switcher.get(i)\n",
        "        i+=1\n",
        "    return color\n",
        "\n",
        "\n",
        "\n",
        "# get first cell out of the start state\n",
        "def get_next_cell(x1,x2,heatmap,policy_table,xlim=9,ylim=9):\n",
        "    up_reward=-10000 \n",
        "    down_reward=-10000 \n",
        "    left_reward=-10000 \n",
        "    right_reward=-10000 \n",
        "\n",
        "    if (x1<ylim):\n",
        "        if (policy_table[x1-1][x2]!=3):\n",
        "            up_reward = heatmap[x1-1][x2]\n",
        "    else: \n",
        "        up_reward = -1000\n",
        "        \n",
        "    if (x1>0):\n",
        "        if (policy_table[x1+1][x2]!=0):\n",
        "            down_reward = heatmap[x1+1][x2]\n",
        "    else: \n",
        "        down_reward = -1000\n",
        "        \n",
        "    if (x2>0):\n",
        "        if (policy_table[x1][x2-1]!=1):\n",
        "            left_reward = heatmap[x1][x2-1] \n",
        "            \n",
        "    else:\n",
        "        left_reward = -1000\n",
        "    \n",
        "    if (x2<xlim):\n",
        "        if (policy_table[x1][x2+1]!=2):\n",
        "            right_reward = heatmap[x1][x2+1] \n",
        "            \n",
        "    else:\n",
        "        right_reward = -1000\n",
        "    \n",
        "    rewards = np.array([up_reward, down_reward, left_reward, right_reward])\n",
        "    idx = np.argmax(rewards)\n",
        "    next_cell = [(x1-1,x2), (x1+1,x2), (x1,x2-1), (x1,x2+1)][idx]\n",
        "    choice = ['up', 'down', 'left', 'right']\n",
        "    #print ('picking ',choice[idx])\n",
        "    return next_cell\n",
        "    \n",
        " \n",
        " \n",
        "\n",
        "# get coordinates of the cells\n",
        "# on the way from the start to goal state \n",
        "def get_path(x1,x2, policy_table):\n",
        "    x_coords = [x1]\n",
        "    y_coords = [x2]\n",
        "    x1_new = x1\n",
        "    x2_new = x2\n",
        "        \n",
        "    i=0\n",
        "    num_steps = 0\n",
        "    total_cells = len(policy_table)*len(policy_table[0])\n",
        "    while (policy_table[x1][x2]!='G') and num_steps < total_cells:\n",
        "        if (policy_table[x1][x2]==1): # right\n",
        "            x2_new=x2+1\n",
        "            #print(i, ' - moving right')\n",
        "            \n",
        "        elif (policy_table[x1][x2]==0):\n",
        "            x1_new=x1-1\n",
        "            #print(i, ' - moving up')\n",
        "            \n",
        "        elif (policy_table[x1][x2]==3):\n",
        "            x1_new=x1+1  \n",
        "            #print(i, ' - moving down')\n",
        "        \n",
        "        elif (policy_table[x1][x2]==2):\n",
        "            x2_new=x2-1 \n",
        "            #print(i, ' - moving left')\n",
        "        \n",
        "        x1 = x1_new\n",
        "        x2 = x2_new\n",
        "        x_coords.append(x1)\n",
        "        y_coords.append(x2)\n",
        "        num_steps += 1\n",
        "    return x_coords, y_coords\n",
        "\n",
        "# plot Q table \n",
        "# optimal path is highlighted and cells colored by their values\n",
        "def plot_table(env, table_data, heatmap, goal_states, start_state, max_val, min_val, x_coords, y_coords):\n",
        "    fig = plt.figure(dpi=80)\n",
        "    ax = fig.add_subplot(1,1,1)\n",
        "    plt.figure(figsize=(10,10))\n",
        "    \n",
        "    width = len(table_data[0])\n",
        "    height = len(table_data)\n",
        "    \n",
        "    new_table = []\n",
        "     \n",
        "    for i in range(height):\n",
        "        new_row = []\n",
        "         \n",
        "        for j in range(width):\n",
        "            if env.map[i][j] == 0:\n",
        "                new_row.append('')\n",
        "            else:\n",
        "                digit = table_data[i][j]\n",
        "                if (digit==0):\n",
        "                    new_row.append('\\u2191') # up\n",
        "                elif (digit==1):\n",
        "                    new_row.append('\\u2192') # right\n",
        "                elif (digit==2):\n",
        "                    new_row.append('\\u2190') # left\n",
        "                elif (digit==3):\n",
        "                    new_row.append('\\u2193') # down\n",
        "                elif (digit=='G'):\n",
        "                    new_row.append('G') # goal state\n",
        "                elif (digit=='S'):\n",
        "                    new_row.append('S') # goal state\n",
        "                elif (digit==-1):\n",
        "                    new_row.append('+') # All four directions\n",
        "                else:\n",
        "                    new_row.append('x') # unknown\n",
        "\n",
        "        new_table.append(new_row)\n",
        "\n",
        "    table = ax.table(cellText=new_table, loc='center',cellLoc='center')\n",
        "     \n",
        "    table.scale(1,2)\n",
        "    \n",
        "    for i in range(height):\n",
        "        new_row = []\n",
        "         \n",
        "        for j in range(width):\n",
        "            if new_table[i][j] == '':\n",
        "                table[i, j].set_facecolor('black')\n",
        "            else:\n",
        "                table[i, j].set_facecolor(get_color(heatmap[i][j],min_val,max_val))\n",
        "    \n",
        "    for goal_state in goal_states:\n",
        "        table[(goal_state[0], goal_state[1])].set_facecolor(\"limegreen\")\n",
        "    table[(start_state[0], start_state[1])].set_facecolor(\"yellow\")\n",
        "    ax.axis('off')\n",
        "    table.set_fontsize(16)\n",
        "    \n",
        "    for i in range(len(x_coords)):\n",
        "        table[(x_coords[i], y_coords[i])].get_text().set_color('red')\n",
        "    plt.show()\n",
        "    \n",
        "\n",
        "# this function takes 3D Q table as an input\n",
        "# and outputs optimal trajectory table (policy table)\n",
        "# and corresponding excpected reward values of different cells (heatmap)\n",
        "def get_policy_table(q_hat_3D, start_state, goal_states):\n",
        "    policy_table = []\n",
        "    heatmap = []\n",
        "    \n",
        "    for i in range(q_hat_3D.shape[0]):\n",
        "        row = []\n",
        "        heatmap_row = []\n",
        "        for j in range(q_hat_3D.shape[1]):\n",
        "\n",
        "            heatmap_row.append(np.max(q_hat_3D[i,j,:]))\n",
        "\n",
        "            for goal_state in goal_states:\n",
        "                if (goal_state[0]==i) and (goal_state[1]==j):\n",
        "                    row.append('G')\n",
        "                    \n",
        "            if (start_state[0]==i) and (start_state[1]==j):\n",
        "                row.append('S')\n",
        "            else:\n",
        "                if np.max(q_hat_3D[i,j,:]) == 0:\n",
        "                    row.append(-1) # All zeros\n",
        "                else:\n",
        "                    row.append(np.argmax(q_hat_3D[i,j,:]))\n",
        "        policy_table.append(row)\n",
        "        heatmap.append(heatmap_row)\n",
        "    \n",
        "    return policy_table, heatmap\n",
        "\n",
        "def plot_policy_from_q(q_hat, env):\n",
        "    q_hat_3D = np.reshape(q_hat, (env.m_size, env.m_size, env.num_actions))\n",
        "    max_val = q_hat_3D.max()\n",
        "    min_val = q_hat_3D.min()\n",
        "    start_state = env.get_coords_from_state(env._get_start_state)\n",
        "    goal_states = env._get_goal_state\n",
        "    goal_states = [env.get_coords_from_state(goal_state) for goal_state in goal_states]\n",
        "    policy_table, heatmap = get_policy_table(q_hat_3D, start_state, goal_states)\n",
        "    x,y = get_next_cell(start_state[0],start_state[1],heatmap,policy_table)\n",
        "    x_coords, y_coords = get_path(x,y,policy_table)\n",
        "    plot_table(env, policy_table, heatmap, goal_states, start_state,max_val,min_val, x_coords, y_coords)\n",
        "    \n",
        "    return"
      ],
      "execution_count": 0,
      "outputs": []
    },
    {
      "cell_type": "code",
      "metadata": {
        "id": "yX2-yd5yBELT",
        "colab_type": "code",
        "colab": {}
      },
      "source": [
        "import numpy as np\n",
        "import copy\n",
        "import math\n",
        "import random\n",
        "\n",
        "ACTION_MEANING = {\n",
        "    0: \"UP\",\n",
        "    1: \"RIGHT\",\n",
        "    2: \"LEFT\",\n",
        "    3: \"DOWN\",\n",
        "}\n",
        "\n",
        "SPACE_MEANING = {\n",
        "    1: \"ROAD\",\n",
        "    0: \"BARRIER\",\n",
        "    -1: \"GOAL\",\n",
        "}\n",
        "\n",
        "\n",
        "class MazeEnv:\n",
        "\n",
        "    def __init__(self, start=[6,3], goals=[[1, 8]]):\n",
        "        \"\"\"Deterministic Maze Environment\"\"\"\n",
        "\n",
        "        self.m_size = 10\n",
        "        self.reward = 10\n",
        "        self.num_actions = 4\n",
        "        self.num_states = self.m_size * self.m_size\n",
        "\n",
        "        self.map = np.ones((self.m_size, self.m_size))\n",
        "        self.map[3, 4:9] = 0\n",
        "        self.map[4:8, 4] = 0\n",
        "        self.map[5, 2:4] = 0\n",
        "\n",
        "        for goal in goals:\n",
        "            self.map[goal[0], goal[1]] = -1\n",
        "\n",
        "        self.start = start\n",
        "        self.goals = goals\n",
        "        self.obs = self.start\n",
        "\n",
        "    def step(self, a):\n",
        "        \"\"\" Perform a action on the environment\n",
        "\n",
        "            Args:\n",
        "                a (int): action integer\n",
        "\n",
        "            Returns:\n",
        "                obs (list): observation list\n",
        "                reward (int): reward for such action\n",
        "                done (int): whether the goal is reached\n",
        "        \"\"\"\n",
        "        done, reward = False, 0.0\n",
        "        next_obs = copy.copy(self.obs)\n",
        "\n",
        "        if a == 0:\n",
        "            next_obs[0] = next_obs[0] - 1\n",
        "        elif a == 1:\n",
        "            next_obs[1] = next_obs[1] + 1\n",
        "        elif a == 2:\n",
        "            next_obs[1] = next_obs[1] - 1\n",
        "        elif a == 3:\n",
        "            next_obs[0] = next_obs[0] + 1\n",
        "        else:\n",
        "            raise Exception(\"Action is Not Valid\")\n",
        "\n",
        "        if self.is_valid_obs(next_obs):\n",
        "            self.obs = next_obs\n",
        "\n",
        "        if self.map[self.obs[0], self.obs[1]] == -1:\n",
        "            reward = self.reward\n",
        "            done = True\n",
        "        \n",
        "        state = self.get_state_from_coords(self.obs[0], self.obs[1])\n",
        "\n",
        "        return state, reward, done\n",
        "\n",
        "    def is_valid_obs(self, obs):\n",
        "        \"\"\" Check whether the observation is valid\n",
        "\n",
        "            Args:\n",
        "                obs (list): observation [x, y]\n",
        "\n",
        "            Returns:\n",
        "                is_valid (bool)\n",
        "        \"\"\"\n",
        "\n",
        "        if obs[0] >= self.m_size or obs[0] < 0:\n",
        "            return False\n",
        "\n",
        "        if obs[1] >= self.m_size or obs[1] < 0:\n",
        "            return False\n",
        "\n",
        "        if self.map[obs[0], obs[1]] == 0:\n",
        "            return False\n",
        "\n",
        "        return True\n",
        "\n",
        "    @property\n",
        "    def _get_obs(self):\n",
        "        \"\"\" Get current observation\n",
        "        \"\"\"\n",
        "        return self.obs\n",
        "    \n",
        "    @property\n",
        "    def _get_state(self):\n",
        "        \"\"\" Get current observation\n",
        "        \"\"\"\n",
        "        return self.get_state_from_coords(self.obs[0], self.obs[1])\n",
        "    \n",
        "    @property\n",
        "    def _get_start_state(self):\n",
        "        \"\"\" Get the start state\n",
        "        \"\"\"\n",
        "        return self.get_state_from_coords(self.start[0], self.start[1])\n",
        "    \n",
        "    @property\n",
        "    def _get_goal_state(self):\n",
        "        \"\"\" Get the start state\n",
        "        \"\"\"\n",
        "        goals = []\n",
        "        for goal in self.goals:\n",
        "            goals.append(self.get_state_from_coords(goal[0], goal[1]))\n",
        "        return goals\n",
        "\n",
        "    def reset(self):\n",
        "        \"\"\" Reset the observation into starting point\n",
        "        \"\"\"\n",
        "        self.obs = self.start\n",
        "        state = self.get_state_from_coords(self.obs[0], self.obs[1])\n",
        "        return state\n",
        "    \n",
        "    def get_state_from_coords(self, row, col):\n",
        "        state = row * self.m_size + col\n",
        "        return state\n",
        "    \n",
        "    def get_coords_from_state(self, state):\n",
        "        row = int(math.floor(state/self.m_size))\n",
        "        col = int(state % self.m_size)\n",
        "        return row, col\n",
        "\n",
        "\n",
        "class ProbabilisticMazeEnv(MazeEnv):\n",
        "    \"\"\" (Q2.3) Hints: you can refer the implementation in MazeEnv \n",
        "    \"\"\"\n",
        "    \n",
        "    def __init__(self, goals=[[2, 8]], p_random=0.05):\n",
        "        \"\"\" Probabilistic Maze Environment \n",
        "\n",
        "            Args:\n",
        "                goals (list): list of goals coordinates\n",
        "                p_random (float): random action rate\n",
        "        \"\"\"\n",
        "        self.m_size = 10\n",
        "        self.reward = 10\n",
        "        self.num_actions = 4\n",
        "        self.num_states = self.m_size * self.m_size\n",
        "        self.map = np.ones((self.m_size, self.m_size))\n",
        "        self.map[3, 4:9] = 0\n",
        "        self.map[4:8, 4] = 0\n",
        "        self.map[5, 2:4] = 0\n",
        "        for goal in goals:\n",
        "            self.map[goal[0], goal[1]] = -1\n",
        "        self.goals = goals\n",
        "        self.start = [6,3]\n",
        "        self.obs = self.start\n",
        "        self.p_random = p_random\n",
        "\n",
        "    def step(self, a):\n",
        "        done, reward = False, 0.0\n",
        "        next_obs = copy.copy(self.obs)\n",
        "        \n",
        "        rand  = random.uniform(0, 1)\n",
        "        if rand <= self.p_random:\n",
        "            a = np.random.choice(4)\n",
        "\n",
        "        if a == 0:\n",
        "            next_obs[0] = next_obs[0] - 1\n",
        "        elif a == 1:\n",
        "            next_obs[1] = next_obs[1] + 1\n",
        "        elif a == 2:\n",
        "            next_obs[1] = next_obs[1] - 1\n",
        "        elif a == 3:\n",
        "            next_obs[0] = next_obs[0] + 1\n",
        "        else:\n",
        "            raise Exception(\"Action is Not Valid\")\n",
        "\n",
        "        if self.is_valid_obs(next_obs):\n",
        "            self.obs = next_obs\n",
        "\n",
        "        if self.map[self.obs[0], self.obs[1]] == -1:\n",
        "            reward = self.reward\n",
        "            done = True\n",
        "        \n",
        "        state = self.get_state_from_coords(self.obs[0], self.obs[1])\n",
        "\n",
        "        return state, reward, done\n",
        "\n",
        "        "
      ],
      "execution_count": 0,
      "outputs": []
    },
    {
      "cell_type": "code",
      "metadata": {
        "id": "uTT7i448BRgr",
        "colab_type": "code",
        "colab": {}
      },
      "source": [
        "import numpy as np\n",
        "import math\n",
        "import copy\n",
        "\n",
        "def qlearn(env, num_iters, alpha, gamma, epsilon, max_steps, use_softmax_policy, init_beta=None, k_exp_sched=None):\n",
        "    \"\"\" Runs tabular Q learning algorithm for stochastic environment.\n",
        "\n",
        "    Args:\n",
        "        env: instance of environment object \n",
        "        num_iters (int): Number of episodes to run Q-learning algorithm\n",
        "        alpha (float): The learning rate between [0,1]\n",
        "        gamma (float): Discount factor, between [0,1)\n",
        "        epsilon (float): Probability in [0,1] that the agent selects a random move instead of \n",
        "                selecting greedily from Q value\n",
        "        max_steps (int): Maximum number of steps in the environment per episode\n",
        "        use_softmax_policy (bool): Whether to use softmax policy (True) or Epsilon-Greedy (False)\n",
        "        init_beta (float): If using stochastic policy, sets the initial beta as the parameter for the softmax\n",
        "        k_exp_sched (float): If using stochastic policy, sets hyperparameter for exponential schedule\n",
        "            on beta\n",
        "    \n",
        "    Returns:\n",
        "        q_hat: A Q-value table shaped [num_states, num_actions] for environment with with num_states \n",
        "            number of states (e.g. num rows * num columns for grid) and num_actions number of possible \n",
        "            actions (e.g. 4 actions up/down/left/right)\n",
        "        steps_vs_iters: An array of size num_iters. Each element denotes the number \n",
        "            of steps in the environment that the agent took to get to the goal\n",
        "            (capped to max_steps)\n",
        "    \"\"\"\n",
        "    action_space_size = env.num_actions\n",
        "    state_space_size = env.num_states\n",
        "    q_hat = np.zeros(shape=(state_space_size, action_space_size))\n",
        "    steps_vs_iters = np.zeros(num_iters)\n",
        "    \n",
        "    for i in range(num_iters):\n",
        "        # TODO: Initialize current state by resetting the environment\n",
        "        # curr_state = ...\n",
        "        curr_state = env.reset()\n",
        "        num_steps = 0\n",
        "        done = False\n",
        "\n",
        "        # TODO: Keep looping while environment isn't done and less than maximum steps\n",
        "        # while ...:\n",
        "        while (done != True) and (num_steps < max_steps):\n",
        "            num_steps += 1\n",
        "\n",
        "            # Choose an action using policy derived from either softmax Q-value \n",
        "            # or epsilon greedy\n",
        "            if use_softmax_policy:\n",
        "                assert(init_beta is not None)\n",
        "                assert(k_exp_sched is not None)\n",
        "\n",
        "                beta = beta_exp_schedule(init_beta, i, k_exp_sched)\n",
        "                action = softmax_policy(q_hat, beta, curr_state, action_space_size)\n",
        "            else:\n",
        "                # TODO: Epsilon-greedy\n",
        "                action = epsilon_greedy(q_hat, epsilon, curr_state, action_space_size)\n",
        "            next_state, reward, done = env.step(action)\n",
        "\n",
        "            # TODO: Update Q_value\n",
        "            if next_state != curr_state:\n",
        "                new_value = alpha * (reward + gamma * np.max(q_hat[next_state, :]) - q_hat[curr_state, action])\n",
        "                q_hat[curr_state, action] = q_hat[curr_state, action] + new_value\n",
        "                curr_state = next_state\n",
        "        steps_vs_iters[i] = num_steps\n",
        "    \n",
        "    return q_hat, steps_vs_iters\n",
        "\n",
        "\n",
        "def epsilon_greedy(q_hat, epsilon, state, action_space_size):\n",
        "    \"\"\" Chooses a random action with p_rand_move probability,\n",
        "    otherwise choose the action with highest Q value for\n",
        "    current observation\n",
        "\n",
        "    Args:\n",
        "        q_hat_3D: A Q-value table shaped [num_rows, num_col, num_actions] for \n",
        "            grid environment with num_rows rows and num_col columns and num_actions \n",
        "            number of possible actions\n",
        "        epsilon (float): Probability in [0,1] that the agent selects a random \n",
        "            move instead of selecting greedily from Q value\n",
        "        obs: A 2-element array with integer element denoting the row and column\n",
        "            that the agent is in\n",
        "        action_space_size (int): number of possible actions\n",
        "    \n",
        "    Returns:\n",
        "        action (int): A number in the range [0, action_space_size-1]\n",
        "            denoting the action the agent will take\n",
        "    \"\"\"\n",
        "    # TODO: Implement your code here\n",
        "    # Hint: Sample from a uniform distribution and check if the sample is below\n",
        "    # a certain threshold\n",
        "    prob = np.random.uniform()\n",
        "    if np.all(q_hat[state, :] == 0) == True:\n",
        "        action = np.random.choice(action_space_size)\n",
        "    elif (prob <= epsilon):\n",
        "        action = np.random.choice(action_space_size)\n",
        "    else:\n",
        "        action = q_hat[state,:].argmax()\n",
        "    return action\n",
        "    \n",
        "\n",
        "def softmax_policy(q_hat, beta, state, action_space_size):\n",
        "    \"\"\" Choose action using policy derived from Q, using\n",
        "    softmax of the Q values divided by the temperature.\n",
        "\n",
        "    Args:\n",
        "        q_hat: A Q-value table shaped [num_rows, num_col, num_actions] for \n",
        "            grid environment with num_rows rows and num_col columns\n",
        "        beta (float): Parameter for controlling the stochasticity of the action\n",
        "        obs: A 2-element array with integer element denoting the row and column\n",
        "            that the agent is in\n",
        "\n",
        "    Returns:\n",
        "        action (int): A number in the range [0, action_space_size-1]\n",
        "            denoting the action the agent will take\n",
        "    \"\"\"\n",
        "    prob = stable_softmax(beta * q_hat)\n",
        "    if all(ele == 0 for ele in q_hat[state]):\n",
        "        action = np.random.choice(action_space_size) \n",
        "    else:\n",
        "        action = np.random.choice(action_space_size, p=prob[state,:])\n",
        "    return action\n",
        "\n",
        "\n",
        "def beta_exp_schedule(init_beta, iteration, k=0.1):\n",
        "   beta = init_beta * np.exp(k * iteration)\n",
        "   return beta\n",
        "\n",
        "def stable_softmax(x, axis=1):\n",
        "    \"\"\" Numerically stable softmax:\n",
        "    softmax(x) = e^x /(sum(e^x))\n",
        "               = e^x / (e^max(x) * sum(e^x/e^max(x)))\n",
        "    \n",
        "    Args:\n",
        "        x: An N-dimensional array of floats\n",
        "        axis: The axis for normalizing over.\n",
        "    \n",
        "    Returns:\n",
        "        output: softmax(x) along the specified dimension\n",
        "    \"\"\"\n",
        "    max_x = np.max(x, axis, keepdims=True)\n",
        "    z = np.exp(x - max_x)\n",
        "    output = z / np.sum(z, axis, keepdims=True)\n",
        "    \n",
        "    return output"
      ],
      "execution_count": 0,
      "outputs": []
    },
    {
      "cell_type": "markdown",
      "metadata": {
        "id": "BCAJ7SksAuvV",
        "colab_type": "text"
      },
      "source": [
        "## 1. Basic Q Learning experiments"
      ]
    },
    {
      "cell_type": "markdown",
      "metadata": {
        "id": "pwMAgKdbAuvW",
        "colab_type": "text"
      },
      "source": [
        "(a) Run your algorithm several times on the given environment. Use the following hyperparameters:\n",
        "1. Number of episodes = 200\n",
        "2. Alpha ($\\alpha$) learning rate = 1.0\n",
        "2. Maximum number of steps per episode = 100. An episode ends when the agent reaches a goal state, or uses the maximum number of steps per episode\n",
        "3. Gamma ($\\gamma$) discount factor = 0.9\n",
        "4. Epsilon ($\\epsilon$) for $\\epsilon$-greedy = 0.1 (10% of the time)\n"
      ]
    },
    {
      "cell_type": "code",
      "metadata": {
        "id": "9P18l3KJAuvW",
        "colab_type": "code",
        "colab": {}
      },
      "source": [
        "# TODO: Fill this in\n",
        "num_iters = 200\n",
        "alpha = 1.0\n",
        "gamma = 0.9\n",
        "epsilon = 0.1\n",
        "max_steps = 100\n",
        "use_softmax_policy = False\n",
        "\n",
        "# TODO: Instantiate the MazeEnv environment with default arguments\n",
        "env = MazeEnv()\n",
        "\n",
        "# TODO: Run Q-learning:\n",
        "q_hat, steps_vs_iters = qlearn(env, num_iters, alpha, gamma, epsilon, max_steps, use_softmax_policy)"
      ],
      "execution_count": 0,
      "outputs": []
    },
    {
      "cell_type": "markdown",
      "metadata": {
        "id": "xW2NhmSGAuvZ",
        "colab_type": "text"
      },
      "source": [
        "Plot the steps to goal vs training iterations (episodes):"
      ]
    },
    {
      "cell_type": "code",
      "metadata": {
        "id": "gJGCocOBAuva",
        "colab_type": "code",
        "outputId": "5f9f55f5-2c48-4fcf-9d77-029164497d7a",
        "colab": {
          "base_uri": "https://localhost:8080/",
          "height": 295
        }
      },
      "source": [
        "# TODO: Plot the steps vs iterations\n",
        "plot_steps_vs_iters(steps_vs_iters)"
      ],
      "execution_count": 0,
      "outputs": [
        {
          "output_type": "display_data",
          "data": {
            "image/png": "[encoded data removed]",
            "text/plain": [
              "<Figure size 432x288 with 1 Axes>"
            ]
          },
          "metadata": {
            "tags": []
          }
        }
      ]
    },
    {
      "cell_type": "markdown",
      "metadata": {
        "id": "snCVaPZLAuvg",
        "colab_type": "text"
      },
      "source": [
        "Visualize the learned greedy policy from the Q values:"
      ]
    },
    {
      "cell_type": "code",
      "metadata": {
        "scrolled": true,
        "id": "FRSewgBoAuvi",
        "colab_type": "code",
        "outputId": "4ac38815-18bc-42fc-d0ff-f83108b5ce6d",
        "colab": {
          "base_uri": "https://localhost:8080/",
          "height": 316
        }
      },
      "source": [
        "# TODO: plot the policy from the Q value\n",
        "plot_policy_from_q(q_hat, env)"
      ],
      "execution_count": 0,
      "outputs": [
        {
          "output_type": "display_data",
          "data": {
            "image/png": "[encoded data removed]",
            "text/plain": [
              "<Figure size 480x320 with 1 Axes>"
            ]
          },
          "metadata": {
            "tags": []
          }
        },
        {
          "output_type": "display_data",
          "data": {
            "text/plain": [
              "<Figure size 720x720 with 0 Axes>"
            ]
          },
          "metadata": {
            "tags": []
          }
        }
      ]
    },
    {
      "cell_type": "markdown",
      "metadata": {
        "id": "aQqCFkYNAuvm",
        "colab_type": "text"
      },
      "source": [
        "(b) Run your algorithm by passing in a list of 2 goal locations: (1,8) and (5,6). Note: we are using 0-indexing, where (0,0) is top left corner. Report on the results."
      ]
    },
    {
      "cell_type": "code",
      "metadata": {
        "id": "kpjTJTedAuvm",
        "colab_type": "code",
        "colab": {}
      },
      "source": [
        "# TODO: Fill this in (same as before)\n",
        "num_iters = 200\n",
        "alpha = 1.0\n",
        "gamma = 0.9\n",
        "epsilon = 0.1\n",
        "max_steps = 100\n",
        "use_softmax_policy = False\n",
        "\n",
        "# TODO: Set the goal\n",
        "goal_locs = [[1, 8], [5, 6]]\n",
        "env = MazeEnv(goals= goal_locs)\n",
        "\n",
        "# TODO: Run Q-learning:\n",
        "q_hat, steps_vs_iters = qlearn(env, num_iters, alpha, gamma, epsilon, max_steps, use_softmax_policy)"
      ],
      "execution_count": 0,
      "outputs": []
    },
    {
      "cell_type": "markdown",
      "metadata": {
        "id": "zlXeXIJnAuvo",
        "colab_type": "text"
      },
      "source": [
        "Plot the steps to goal vs training iterations (episodes):"
      ]
    },
    {
      "cell_type": "code",
      "metadata": {
        "id": "6WblJBTEAuvp",
        "colab_type": "code",
        "outputId": "15624e5b-5508-49f3-f15d-186132b699b3",
        "colab": {
          "base_uri": "https://localhost:8080/",
          "height": 295
        }
      },
      "source": [
        "# TODO: Plot the steps vs iterations\n",
        "plot_steps_vs_iters(steps_vs_iters)"
      ],
      "execution_count": 0,
      "outputs": [
        {
          "output_type": "display_data",
          "data": {
            "image/png": "[encoded data removed]",
            "text/plain": [
              "<Figure size 432x288 with 1 Axes>"
            ]
          },
          "metadata": {
            "tags": []
          }
        }
      ]
    },
    {
      "cell_type": "markdown",
      "metadata": {
        "id": "2HQc83aFAuvr",
        "colab_type": "text"
      },
      "source": [
        "Plot the steps to goal vs training iterations (episodes):"
      ]
    },
    {
      "cell_type": "code",
      "metadata": {
        "id": "444H-2L5Auvs",
        "colab_type": "code",
        "outputId": "106f4b34-9d47-45e0-d7dc-6cae4c13e139",
        "colab": {
          "base_uri": "https://localhost:8080/",
          "height": 316
        }
      },
      "source": [
        "# TODO: plot the policy from the Q values\n",
        "plot_policy_from_q(q_hat, env)"
      ],
      "execution_count": 0,
      "outputs": [
        {
          "output_type": "display_data",
          "data": {
            "image/png": "[encoded data removed]",
            "text/plain": [
              "<Figure size 480x320 with 1 Axes>"
            ]
          },
          "metadata": {
            "tags": []
          }
        },
        {
          "output_type": "display_data",
          "data": {
            "text/plain": [
              "<Figure size 720x720 with 0 Axes>"
            ]
          },
          "metadata": {
            "tags": []
          }
        }
      ]
    },
    {
      "cell_type": "markdown",
      "metadata": {
        "id": "1qgoYp93Auvu",
        "colab_type": "text"
      },
      "source": [
        "## 2. Experiment with the exploration strategy, in the original environment"
      ]
    },
    {
      "cell_type": "markdown",
      "metadata": {
        "id": "t9Fn32IZAuvu",
        "colab_type": "text"
      },
      "source": [
        "(a) Try different $\\epsilon$ values in $\\epsilon$-greedy exploration: We asked you to use a rate of $\\epsilon$=10%, but try also 50% and 1%. Graph the results (for 3 epsilon values) and discuss the costs and benefits of higher and lower exploration rates."
      ]
    },
    {
      "cell_type": "code",
      "metadata": {
        "id": "GeQZvWgBAuvv",
        "colab_type": "code",
        "colab": {}
      },
      "source": [
        "# TODO: Fill this in (same as before)\n",
        "num_iters = 200\n",
        "alpha = 1.0\n",
        "gamma = 0.9\n",
        "max_steps = 100\n",
        "use_softmax_policy = False\n",
        "\n",
        "# TODO: set the epsilon lists in increasing order:\n",
        "epsilon_list = [0.01, 0.1, 0.5]\n",
        "\n",
        "env = MazeEnv()\n",
        "\n",
        "steps_vs_iters_list = []\n",
        "for epsilon in epsilon_list:\n",
        "   q_hat, steps_vs_iters = qlearn(env, num_iters, alpha, gamma, epsilon, max_steps, use_softmax_policy)\n",
        "   steps_vs_iters_list.append(steps_vs_iters)"
      ],
      "execution_count": 0,
      "outputs": []
    },
    {
      "cell_type": "code",
      "metadata": {
        "id": "DiG7yPvUAuvx",
        "colab_type": "code",
        "outputId": "5d64b83d-9de9-477e-8920-6f914ae138f0",
        "colab": {
          "base_uri": "https://localhost:8080/",
          "height": 295
        }
      },
      "source": [
        "# TODO: Plot the results\n",
        "label_list = [\"epsilon={}\".format(eps) for eps in epsilon_list]\n",
        "plot_several_steps_vs_iters(steps_vs_iters_list, label_list)"
      ],
      "execution_count": 0,
      "outputs": [
        {
          "output_type": "display_data",
          "data": {
            "image/png": "[encoded data removed]",
            "text/plain": [
              "<Figure size 432x288 with 1 Axes>"
            ]
          },
          "metadata": {
            "tags": []
          }
        }
      ]
    },
    {
      "cell_type": "markdown",
      "metadata": {
        "id": "MT3CHEPoAuv0",
        "colab_type": "text"
      },
      "source": [
        "(b) Try exploring with policy derived from **softmax of Q-values** described in the Q learning lecture. Use the values of $\\beta \\in \\{1, 3, 6\\}$ for your experiment, keeping $\\beta$ fixed throughout the training."
      ]
    },
    {
      "cell_type": "code",
      "metadata": {
        "id": "5gOJZUZsAuv1",
        "colab_type": "code",
        "colab": {}
      },
      "source": [
        "# TODO: Fill this in for Static Beta with softmax of Q-values\n",
        "num_iters = 200\n",
        "alpha = 1.0\n",
        "gamma = 0.9\n",
        "epsilon = 0.1\n",
        "max_steps = 100\n",
        "\n",
        "# TODO: Set the beta\n",
        "beta_list = [1, 3, 6]\n",
        "use_softmax_policy = True\n",
        "k_exp_schedule = 0.0\n",
        "env = MazeEnv()\n",
        "steps_vs_iters_list = []\n",
        "for beta in beta_list:\n",
        "    q_hat, steps_vs_iters = qlearn(env, num_iters, alpha, gamma, epsilon, max_steps, use_softmax_policy, beta, k_exp_schedule)\n",
        "    steps_vs_iters_list.append(steps_vs_iters)"
      ],
      "execution_count": 0,
      "outputs": []
    },
    {
      "cell_type": "code",
      "metadata": {
        "id": "8mlvq7GFAuv2",
        "colab_type": "code",
        "outputId": "b8bd47f7-48f6-47a7-f284-a09fd9548488",
        "colab": {
          "base_uri": "https://localhost:8080/",
          "height": 295
        }
      },
      "source": [
        "label_list = [\"beta={}\".format(beta) for beta in beta_list]\n",
        "# TODO: \n",
        "plot_several_steps_vs_iters(steps_vs_iters_list, label_list)"
      ],
      "execution_count": 0,
      "outputs": [
        {
          "output_type": "display_data",
          "data": {
            "image/png": "[encoded data removed]",
            "text/plain": [
              "<Figure size 432x288 with 1 Axes>"
            ]
          },
          "metadata": {
            "tags": []
          }
        }
      ]
    },
    {
      "cell_type": "markdown",
      "metadata": {
        "id": "0Ndrq5sYAuv5",
        "colab_type": "text"
      },
      "source": [
        "(c) Instead of fixing the $\\beta = \\beta_0$ to the initial value, we will increase the value of $\\beta$ as the number of episodes $t$ increase:\n",
        "\n",
        "$$\\beta(t) = \\beta_0 e^{kt}$$\n",
        "\n",
        "That is, the $\\beta$ value is fixed for a particular episode.\n",
        "Run the training again for different values of $k \\in \\{0.05, 0.1, 0.25, 0.5\\}$, keeping $\\beta_0 = 1.0$. Compare the results obtained with this approach to those obtained with a static $\\beta$ value."
      ]
    },
    {
      "cell_type": "code",
      "metadata": {
        "id": "jeClyGLfAuv5",
        "colab_type": "code",
        "colab": {}
      },
      "source": [
        "# TODO: Fill this in for Dynamic Beta\n",
        "num_iters = 200\n",
        "alpha = 1.0\n",
        "gamma = 0.9\n",
        "epsilon = 0.1\n",
        "max_steps = 100\n",
        "\n",
        "# TODO: Set the beta\n",
        "beta = 1.0\n",
        "use_softmax_policy = True\n",
        "k_exp_schedule_list = [0.05, 0.1, 0.25, 0.5]\n",
        "env = MazeEnv()\n",
        "\n",
        "steps_vs_iters_list = []\n",
        "for k_exp_schedule in k_exp_schedule_list:\n",
        "    q_hat, steps_vs_iters = qlearn(env, num_iters, alpha, gamma, epsilon, max_steps, use_softmax_policy, beta, k_exp_schedule)\n",
        "    steps_vs_iters_list.append(steps_vs_iters)"
      ],
      "execution_count": 0,
      "outputs": []
    },
    {
      "cell_type": "code",
      "metadata": {
        "id": "IGNeLnv3Auv8",
        "colab_type": "code",
        "outputId": "7ef3ae92-4420-4ed8-fbbe-5df027a060f3",
        "colab": {
          "base_uri": "https://localhost:8080/",
          "height": 295
        }
      },
      "source": [
        "# TODO: Plot the steps vs iterations\n",
        "label_list = [\"k={}\".format(k_exp_schedule) for k_exp_schedule in k_exp_schedule_list]\n",
        "plot_several_steps_vs_iters(steps_vs_iters_list, label_list)"
      ],
      "execution_count": 0,
      "outputs": [
        {
          "output_type": "display_data",
          "data": {
            "image/png": "[encoded data removed]",
            "text/plain": [
              "<Figure size 432x288 with 1 Axes>"
            ]
          },
          "metadata": {
            "tags": []
          }
        }
      ]
    },
    {
      "cell_type": "markdown",
      "metadata": {
        "id": "eYIH5Y-LAuwB",
        "colab_type": "text"
      },
      "source": [
        "## 3. Stochastic Environments"
      ]
    },
    {
      "cell_type": "markdown",
      "metadata": {
        "id": "coYByk_WAuwC",
        "colab_type": "text"
      },
      "source": [
        "(a) Make  the  environment  stochastic  (uncertain),  such  that  the  agent  only  has  a  95% chance  of  moving  in  the  chosen  direction,  and  has  a  5%  chance  of  moving  in  some random direction."
      ]
    },
    {
      "cell_type": "code",
      "metadata": {
        "id": "qRQnpnLEAuwD",
        "colab_type": "code",
        "colab": {}
      },
      "source": [
        "# TODO: Implement ProbabilisticMazeEnv in maze.py"
      ],
      "execution_count": 0,
      "outputs": []
    },
    {
      "cell_type": "markdown",
      "metadata": {
        "id": "QP3Y8pVgAuwK",
        "colab_type": "text"
      },
      "source": [
        "(b) Change the learning rule to handle the non-determinism, and experiment with different probability of environment performing random action $p_{rand} \\in \\{0.05, 0.1, 0.25, 0.5\\}$ in this new rule. How does performance vary as the environment becomes more stochastic?\n",
        "\n",
        "Use the same parameters as in first part, except change the alpha ($\\alpha$) value to be **less than 1**, e.g. 0.5."
      ]
    },
    {
      "cell_type": "code",
      "metadata": {
        "id": "OjdhOpPVAuwL",
        "colab_type": "code",
        "colab": {}
      },
      "source": [
        "# TODO: Fill this in for Dynamic Beta\n",
        "num_iters = 200\n",
        "alpha = 0.5\n",
        "gamma = 0.9\n",
        "epsilon = 0.1\n",
        "max_steps = 100\n",
        "use_softmax_policy = False\n",
        "beta = 1.0\n",
        "\n",
        "# Set the environment probability of random\n",
        "env_p_rand_list = [0.05, 0.1, 0.25, 0.5]\n",
        "\n",
        "steps_vs_iters_list = []\n",
        "for env_p_rand in env_p_rand_list:\n",
        "    # Instantiate with ProbabilisticMazeEnv\n",
        "    env = ProbabilisticMazeEnv(p_random=env_p_rand)\n",
        "\n",
        "    # Note: We will repeat for several runs of the algorithm to make the result less noisy\n",
        "    avg_steps_vs_iters = np.zeros(num_iters)\n",
        "    for i in range(10):\n",
        "        # q_hat, steps_vs_iters = qlearn(env, num_iters, alpha, gamma, epsilon, max_steps, use_softmax_policy, init_beta=6, k_exp_sched=0.5)\n",
        "        q_hat, steps_vs_iters = qlearn(env, num_iters, alpha, gamma, epsilon, max_steps, use_softmax_policy)\n",
        "        avg_steps_vs_iters += steps_vs_iters\n",
        "    avg_steps_vs_iters /= 10\n",
        "    steps_vs_iters_list.append(avg_steps_vs_iters)"
      ],
      "execution_count": 0,
      "outputs": []
    },
    {
      "cell_type": "code",
      "metadata": {
        "id": "SMybI_rSAuwP",
        "colab_type": "code",
        "outputId": "f6ec1214-e609-4b5b-87f1-403135acd35d",
        "colab": {
          "base_uri": "https://localhost:8080/",
          "height": 295
        }
      },
      "source": [
        "label_list = [\"env_random={}\".format(env_p_rand) for env_p_rand in env_p_rand_list]\n",
        "plot_several_steps_vs_iters(steps_vs_iters_list, label_list)"
      ],
      "execution_count": 0,
      "outputs": [
        {
          "output_type": "display_data",
          "data": {
            "image/png": "[encoded data removed]",
            "text/plain": [
              "<Figure size 432x288 with 1 Axes>"
            ]
          },
          "metadata": {
            "tags": []
          }
        }
      ]
    },
    {
      "cell_type": "markdown",
      "metadata": {
        "id": "Viu2fKnmAuwR",
        "colab_type": "text"
      },
      "source": [
        "# 3. Did you complete the course evaluation?"
      ]
    },
    {
      "cell_type": "markdown",
      "metadata": {
        "id": "ToOAZRmeYRHR",
        "colab_type": "text"
      },
      "source": [
        "**ABSOLUTELY YES** Thank you so much my dearest professors and TAs."
      ]
    }
  ]
}